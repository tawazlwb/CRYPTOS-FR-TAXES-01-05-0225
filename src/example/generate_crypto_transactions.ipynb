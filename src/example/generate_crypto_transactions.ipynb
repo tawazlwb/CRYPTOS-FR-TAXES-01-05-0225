{
 "cells": [
  {
   "cell_type": "markdown",
   "id": "f31862a7",
   "metadata": {},
   "source": [
    "# Un notebook Jupyter pour générer un fichier XLSX contenant des transactions aléatoires pour 5 cryptomonnaies avec des profits et pertes.\n",
    "Ce notebook guide l'utilisateur à travers les étapes nécessaires pour générer un fichier XLSX contenant des transactions aléatoires pour 5 cryptomonnaies, avec des colonnes pour les profits et pertes."
   ]
  },
  {
   "cell_type": "markdown",
   "id": "16506143",
   "metadata": {},
   "source": [
    "## Importer les bibliothèques nécessaires\n",
    "Importer pandas, numpy et openpyxl pour la manipulation des données et l'exportation vers un fichier XLSX."
   ]
  },
  {
   "cell_type": "code",
   "execution_count": null,
   "id": "f78dd1d1",
   "metadata": {},
   "outputs": [],
   "source": [
    "# Importer les bibliothèques nécessaires\n",
    "import pandas as pd\n",
    "import numpy as np\n",
    "from openpyxl import Workbook"
   ]
  },
  {
   "cell_type": "markdown",
   "id": "38ee74a3",
   "metadata": {},
   "source": [
    "## Définir les cryptomonnaies et les paramètres\n",
    "Créer une liste de 5 cryptomonnaies et définir les plages de valeurs pour le nombre de transactions, les profits et les pertes."
   ]
  },
  {
   "cell_type": "code",
   "execution_count": null,
   "id": "fab83f9a",
   "metadata": {},
   "outputs": [],
   "source": [
    "# Définir les cryptomonnaies et les paramètres\n",
    "cryptocurrencies = [\"Bitcoin\", \"Ethereum\", \"Ripple\", \"Litecoin\", \"Cardano\"]\n",
    "min_transactions = 3\n",
    "max_transactions = 7\n",
    "profit_range = (-1000, 1000)  # Profits et pertes en dollars"
   ]
  },
  {
   "cell_type": "markdown",
   "id": "b874f3d8",
   "metadata": {},
   "source": [
    "## Générer des transactions aléatoires\n",
    "Utiliser numpy pour générer un nombre aléatoire de transactions (entre 3 et 7) pour chaque cryptomonnaie, avec des colonnes pour la date, le montant, le profit et la perte."
   ]
  },
  {
   "cell_type": "code",
   "execution_count": null,
   "id": "607c1642",
   "metadata": {},
   "outputs": [],
   "source": [
    "# Générer des transactions aléatoires\n",
    "import random\n",
    "from datetime import datetime, timedelta\n",
    "\n",
    "def generate_random_transactions(crypto_name, num_transactions):\n",
    "    transactions = []\n",
    "    for _ in range(num_transactions):\n",
    "        date = datetime.now() - timedelta(days=random.randint(1, 365))\n",
    "        amount = round(random.uniform(0.01, 10), 2)  # Montant en crypto\n",
    "        profit_loss = round(random.uniform(*profit_range), 2)\n",
    "        transactions.append({\n",
    "            \"Date\": date.strftime(\"%Y-%m-%d\"),\n",
    "            \"Montant\": amount,\n",
    "            \"Profit/Pertes\": profit_loss,\n",
    "            \"Cryptomonnaie\": crypto_name\n",
    "        })\n",
    "    return transactions\n",
    "\n",
    "all_transactions = []\n",
    "for crypto in cryptocurrencies:\n",
    "    num_transactions = random.randint(min_transactions, max_transactions)\n",
    "    all_transactions.extend(generate_random_transactions(crypto, num_transactions))"
   ]
  },
  {
   "cell_type": "markdown",
   "id": "2bd26edb",
   "metadata": {},
   "source": [
    "## Créer un DataFrame pour chaque cryptomonnaie\n",
    "Assembler les transactions générées dans un DataFrame pandas, en ajoutant une colonne pour le nom de la cryptomonnaie."
   ]
  },
  {
   "cell_type": "code",
   "execution_count": null,
   "id": "48c824ba",
   "metadata": {},
   "outputs": [],
   "source": [
    "# Créer un DataFrame pour chaque cryptomonnaie\n",
    "df = pd.DataFrame(all_transactions)\n",
    "print(df.head())"
   ]
  },
  {
   "cell_type": "markdown",
   "id": "d7491733",
   "metadata": {},
   "source": [
    "## Exporter les données vers un fichier XLSX\n",
    "Utiliser pandas pour exporter les données combinées dans un fichier XLSX avec une feuille par cryptomonnaie."
   ]
  },
  {
   "cell_type": "code",
   "execution_count": null,
   "id": "7436f9b8",
   "metadata": {},
   "outputs": [],
   "source": [
    "# Exporter les données vers un fichier XLSX\n",
    "output_file = \"/home/ikheiry/Documents/copilot/CRYPTOS-FR-TAXES-01-05-0225/crypto_transactions.xlsx\"\n",
    "\n",
    "with pd.ExcelWriter(output_file, engine=\"openpyxl\") as writer:\n",
    "    for crypto in cryptocurrencies:\n",
    "        crypto_df = df[df[\"Cryptomonnaie\"] == crypto]\n",
    "        crypto_df.to_excel(writer, sheet_name=crypto, index=False)\n",
    "\n",
    "print(f\"Fichier XLSX généré avec succès : {output_file}\")"
   ]
  }
 ],
 "metadata": {
  "language_info": {
   "name": "python"
  }
 },
 "nbformat": 4,
 "nbformat_minor": 5
}
